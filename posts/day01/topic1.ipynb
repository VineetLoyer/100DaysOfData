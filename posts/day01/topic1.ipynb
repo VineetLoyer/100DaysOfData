{
 "cells": [
  {
   "cell_type": "markdown",
   "id": "d7ebadec",
   "metadata": {},
   "source": [
    "Sample Notebook for testing purpose"
   ]
  }
 ],
 "metadata": {
  "language_info": {
   "name": "python"
  }
 },
 "nbformat": 4,
 "nbformat_minor": 5
}
